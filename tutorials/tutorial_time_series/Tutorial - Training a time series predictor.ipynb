{
 "cells": [
  {
   "cell_type": "markdown",
   "metadata": {},
   "source": [
    "# Tutorial - Time series forecasting\n",
    "\n",
    "## Introduction\n",
    "\n",
    "Time series are an ubiquitous type of data in all types of processes. Producing forecasts for them can be highly valuable in domains like retail or industrial manufacture, among many others.\n",
    "\n",
    "Lightwood supports time series forecasting (both univariate and multivariate inputs), handling many of the pain points commonly associated with setting up a manual time series predictive pipeline. \n",
    "\n",
    "In this tutorial, we will train a lightwood predictor and analyze its forecasts for the task of counting sunspots in monthly intervals.\n",
    "\n",
    "## Load data\n",
    "\n",
    "Let's begin by loading the dataset and looking at it:"
   ]
  },
  {
   "cell_type": "code",
   "execution_count": 5,
   "metadata": {},
   "outputs": [
    {
     "data": {
      "text/html": [
       "<div>\n",
       "<style scoped>\n",
       "    .dataframe tbody tr th:only-of-type {\n",
       "        vertical-align: middle;\n",
       "    }\n",
       "\n",
       "    .dataframe tbody tr th {\n",
       "        vertical-align: top;\n",
       "    }\n",
       "\n",
       "    .dataframe thead th {\n",
       "        text-align: right;\n",
       "    }\n",
       "</style>\n",
       "<table border=\"1\" class=\"dataframe\">\n",
       "  <thead>\n",
       "    <tr style=\"text-align: right;\">\n",
       "      <th></th>\n",
       "      <th>Month</th>\n",
       "      <th>Sunspots</th>\n",
       "    </tr>\n",
       "  </thead>\n",
       "  <tbody>\n",
       "    <tr>\n",
       "      <th>0</th>\n",
       "      <td>1749-01</td>\n",
       "      <td>58.0</td>\n",
       "    </tr>\n",
       "    <tr>\n",
       "      <th>1</th>\n",
       "      <td>1749-02</td>\n",
       "      <td>62.6</td>\n",
       "    </tr>\n",
       "    <tr>\n",
       "      <th>2</th>\n",
       "      <td>1749-03</td>\n",
       "      <td>70.0</td>\n",
       "    </tr>\n",
       "    <tr>\n",
       "      <th>3</th>\n",
       "      <td>1749-04</td>\n",
       "      <td>55.7</td>\n",
       "    </tr>\n",
       "    <tr>\n",
       "      <th>4</th>\n",
       "      <td>1749-05</td>\n",
       "      <td>85.0</td>\n",
       "    </tr>\n",
       "    <tr>\n",
       "      <th>...</th>\n",
       "      <td>...</td>\n",
       "      <td>...</td>\n",
       "    </tr>\n",
       "    <tr>\n",
       "      <th>2815</th>\n",
       "      <td>1983-08</td>\n",
       "      <td>71.8</td>\n",
       "    </tr>\n",
       "    <tr>\n",
       "      <th>2816</th>\n",
       "      <td>1983-09</td>\n",
       "      <td>50.3</td>\n",
       "    </tr>\n",
       "    <tr>\n",
       "      <th>2817</th>\n",
       "      <td>1983-10</td>\n",
       "      <td>55.8</td>\n",
       "    </tr>\n",
       "    <tr>\n",
       "      <th>2818</th>\n",
       "      <td>1983-11</td>\n",
       "      <td>33.3</td>\n",
       "    </tr>\n",
       "    <tr>\n",
       "      <th>2819</th>\n",
       "      <td>1983-12</td>\n",
       "      <td>33.4</td>\n",
       "    </tr>\n",
       "  </tbody>\n",
       "</table>\n",
       "<p>2820 rows × 2 columns</p>\n",
       "</div>"
      ],
      "text/plain": [
       "        Month  Sunspots\n",
       "0     1749-01      58.0\n",
       "1     1749-02      62.6\n",
       "2     1749-03      70.0\n",
       "3     1749-04      55.7\n",
       "4     1749-05      85.0\n",
       "...       ...       ...\n",
       "2815  1983-08      71.8\n",
       "2816  1983-09      50.3\n",
       "2817  1983-10      55.8\n",
       "2818  1983-11      33.3\n",
       "2819  1983-12      33.4\n",
       "\n",
       "[2820 rows x 2 columns]"
      ]
     },
     "execution_count": 5,
     "metadata": {},
     "output_type": "execute_result"
    }
   ],
   "source": [
    "import pandas as pd\n",
    "\n",
    "df = pd.read_csv(\"https://raw.githubusercontent.com/mindsdb/benchmarks/main/benchmarks/datasets/monthly_sunspots/data.csv\")\n",
    "df"
   ]
  },
  {
   "cell_type": "markdown",
   "metadata": {},
   "source": [
    "This is a very simple dataset. It's got a single column that specifies the month in which the measurement was done, and then in the 'Sunspots' column we have the actual quantity we are interested in forecasting. As such, we can characterize this as a univariate time series problem.\n",
    "\n",
    "## Define the predictive task\n",
    "\n",
    "We will use Lightwood high level methods to state what we want to predict. As this is a time series task (because we want to leverage the notion of time to predict), we need to specify a set of arguments that will activate Lightwood's time series pipeline:"
   ]
  },
  {
   "cell_type": "code",
   "execution_count": 8,
   "metadata": {},
   "outputs": [],
   "source": [
    "from lightwood.api.high_level import ProblemDefinition"
   ]
  },
  {
   "cell_type": "code",
   "execution_count": 21,
   "metadata": {},
   "outputs": [],
   "source": [
    "tss = {'nr_predictions': 6,   # the predictor will learn to forecast what the next semester counts will look like (6 data points at monthly intervals -> 6 months)\n",
    "       'order_by': ['Month'], # what column is used to order the entire datset\n",
    "       'window': 12           # how many past values to consider for emitting predictions\n",
    "      }\n",
    "\n",
    "pdef = ProblemDefinition.from_dict({'target': 'Sunspots',         # specify the column to forecast\n",
    "                                    'timeseries_settings': tss    # pass along all time series specific parameters\n",
    "                                   })"
   ]
  },
  {
   "cell_type": "markdown",
   "metadata": {},
   "source": [
    "Now, let's do a very simple train-test split, leaving 10% of the data to check the forecasts that our predictor will produce:"
   ]
  },
  {
   "cell_type": "code",
   "execution_count": 22,
   "metadata": {},
   "outputs": [
    {
     "name": "stdout",
     "output_type": "stream",
     "text": [
      "(2538, 2) (282, 2)\n"
     ]
    }
   ],
   "source": [
    "cutoff = int(len(df)*0.9)\n",
    "\n",
    "train = df[:cutoff]\n",
    "test = df[cutoff:]\n",
    "\n",
    "print(train.shape, test.shape)"
   ]
  },
  {
   "cell_type": "markdown",
   "metadata": {},
   "source": [
    "## Generate the predictor object\n",
    "\n",
    "Now, we can generate code for a machine learning model by using our problem definition and the data:"
   ]
  },
  {
   "cell_type": "code",
   "execution_count": 23,
   "metadata": {},
   "outputs": [
    {
     "name": "stderr",
     "output_type": "stream",
     "text": [
      "\u001b[32mINFO:lightwood-46866:Dropping features: []\u001b[0m\n",
      "\u001b[32mINFO:lightwood-46866:Analyzing a sample of 2467\u001b[0m\n",
      "\u001b[32mINFO:lightwood-46866:from a total population of 2820, this is equivalent to 87.5% of your data.\u001b[0m\n",
      "\u001b[32mINFO:lightwood-46866:Using 15 processes to deduct types.\u001b[0m\n",
      "\u001b[32mINFO:lightwood-46866:Starting statistical analysis\u001b[0m\n",
      "\u001b[32mINFO:lightwood-46866:Finished statistical analysis\u001b[0m\n"
     ]
    },
    {
     "data": {
      "text/plain": [
       "<A2JDXXBL9A1E16341560437535849.Predictor at 0x15685d970>"
      ]
     },
     "execution_count": 23,
     "metadata": {},
     "output_type": "execute_result"
    }
   ],
   "source": [
    "from lightwood.api.high_level import (\n",
    "    json_ai_from_problem,\n",
    "    code_from_json_ai,\n",
    "    predictor_from_code\n",
    ")\n",
    "\n",
    "json_ai = json_ai_from_problem(df, problem_definition=pdef)\n",
    "code = code_from_json_ai(json_ai)\n",
    "predictor = predictor_from_code(code)\n",
    "\n",
    "# uncomment this to see the generated code:\n",
    "# print(code)"
   ]
  },
  {
   "cell_type": "markdown",
   "metadata": {},
   "source": [
    "## Train\n",
    "\n",
    "Okay, everything is ready now for our predictor to learn based on the training data we will provide.\n",
    "\n",
    "Internally, lightwood cleans and reshapes the data, featurizes measurements and timestamps, and comes up with a handful of different models that will be evaluated to keep the one that produces the best forecasts.\n",
    "\n",
    "Let's train the predictor. This should take a couple of minutes, at most:"
   ]
  },
  {
   "cell_type": "code",
   "execution_count": 27,
   "metadata": {},
   "outputs": [
    {
     "name": "stderr",
     "output_type": "stream",
     "text": [
      "\u001b[32mINFO:lightwood-46866:Dropping features: []\u001b[0m\n",
      "\u001b[32mINFO:lightwood-46866:Performing statistical analysis on data\u001b[0m\n",
      "\u001b[32mINFO:lightwood-46866:Starting statistical analysis\u001b[0m\n",
      "\u001b[32mINFO:lightwood-46866:Finished statistical analysis\u001b[0m\n",
      "\u001b[32mINFO:lightwood-46866:Cleaning the data\u001b[0m\n",
      "\u001b[32mINFO:lightwood-46866:Transforming timeseries data\u001b[0m\n",
      "\u001b[32mINFO:lightwood-46866:Using 15 processes to reshape.\u001b[0m\n",
      "\u001b[32mINFO:lightwood-46866:Splitting the data into train/test\u001b[0m\n",
      "\u001b[32mINFO:lightwood-46866:Preparing the encoders\u001b[0m\n",
      "\u001b[32mINFO:lightwood-46866:Encoder prepping dict length of: 1\u001b[0m\n",
      "\u001b[32mINFO:lightwood-46866:Done running for: Sunspots\u001b[0m\n",
      "\u001b[32mINFO:lightwood-46866:time series encoder epoch [1/100000] average_loss = 0.020042672178201507\u001b[0m\n",
      "\u001b[32mINFO:lightwood-46866:time series encoder epoch [2/100000] average_loss = 0.0077215013273975305\u001b[0m\n",
      "\u001b[32mINFO:lightwood-46866:time series encoder epoch [3/100000] average_loss = 0.0064399814919421546\u001b[0m\n",
      "\u001b[32mINFO:lightwood-46866:time series encoder epoch [4/100000] average_loss = 0.005441865690967493\u001b[0m\n",
      "\u001b[32mINFO:lightwood-46866:time series encoder epoch [5/100000] average_loss = 0.005300704742732801\u001b[0m\n",
      "\u001b[32mINFO:lightwood-46866:time series encoder epoch [6/100000] average_loss = 0.004992981385766414\u001b[0m\n",
      "\u001b[32mINFO:lightwood-46866:time series encoder epoch [7/100000] average_loss = 0.00491229374157755\u001b[0m\n",
      "\u001b[32mINFO:lightwood-46866:time series encoder epoch [8/100000] average_loss = 0.004856080601089879\u001b[0m\n",
      "\u001b[32mINFO:lightwood-46866:time series encoder epoch [9/100000] average_loss = 0.004799575188703704\u001b[0m\n",
      "\u001b[32mINFO:lightwood-46866:time series encoder epoch [10/100000] average_loss = 0.0047617426566910325\u001b[0m\n",
      "\u001b[32mINFO:lightwood-46866:time series encoder epoch [11/100000] average_loss = 0.004732183615366618\u001b[0m\n",
      "\u001b[32mINFO:lightwood-46866:time series encoder epoch [12/100000] average_loss = 0.004704843226232026\u001b[0m\n",
      "\u001b[32mINFO:lightwood-46866:time series encoder epoch [13/100000] average_loss = 0.004697896095744351\u001b[0m\n",
      "\u001b[32mINFO:lightwood-46866:time series encoder epoch [14/100000] average_loss = 0.004687661141679998\u001b[0m\n",
      "\u001b[32mINFO:lightwood-46866:time series encoder epoch [15/100000] average_loss = 0.004655592012823674\u001b[0m\n",
      "\u001b[32mINFO:lightwood-46866:time series encoder epoch [16/100000] average_loss = 0.004595928704529478\u001b[0m\n",
      "\u001b[32mINFO:lightwood-46866:time series encoder epoch [17/100000] average_loss = 0.004568418233018173\u001b[0m\n",
      "\u001b[32mINFO:lightwood-46866:time series encoder epoch [18/100000] average_loss = 0.004558674494425456\u001b[0m\n",
      "\u001b[32mINFO:lightwood-46866:time series encoder epoch [19/100000] average_loss = 0.004570525518634863\u001b[0m\n",
      "\u001b[32mINFO:lightwood-46866:time series encoder epoch [20/100000] average_loss = 0.004572713087525284\u001b[0m\n",
      "\u001b[32mINFO:lightwood-46866:time series encoder epoch [21/100000] average_loss = 0.004563712864591364\u001b[0m\n",
      "\u001b[32mINFO:lightwood-46866:time series encoder epoch [22/100000] average_loss = 0.004498099365778136\u001b[0m\n",
      "\u001b[32mINFO:lightwood-46866:time series encoder epoch [23/100000] average_loss = 0.004449873953534846\u001b[0m\n",
      "\u001b[32mINFO:lightwood-46866:time series encoder epoch [24/100000] average_loss = 0.004484773205037703\u001b[0m\n",
      "\u001b[32mINFO:lightwood-46866:time series encoder epoch [25/100000] average_loss = 0.004398583738427413\u001b[0m\n",
      "\u001b[32mINFO:lightwood-46866:time series encoder epoch [26/100000] average_loss = 0.004340721536100957\u001b[0m\n",
      "\u001b[32mINFO:lightwood-46866:time series encoder epoch [27/100000] average_loss = 0.004394709227377908\u001b[0m\n",
      "\u001b[32mINFO:lightwood-46866:time series encoder epoch [28/100000] average_loss = 0.004414253694969311\u001b[0m\n",
      "\u001b[32mINFO:lightwood-46866:time series encoder epoch [29/100000] average_loss = 0.0043628366892797905\u001b[0m\n",
      "\u001b[32mINFO:lightwood-46866:time series encoder epoch [30/100000] average_loss = 0.0042474141246394105\u001b[0m\n",
      "\u001b[32mINFO:lightwood-46866:time series encoder epoch [31/100000] average_loss = 0.004357850760744329\u001b[0m\n",
      "\u001b[32mINFO:lightwood-46866:time series encoder epoch [32/100000] average_loss = 0.004315985190240961\u001b[0m\n",
      "\u001b[32mINFO:lightwood-46866:time series encoder epoch [33/100000] average_loss = 0.00410254764975163\u001b[0m\n",
      "\u001b[32mINFO:lightwood-46866:time series encoder epoch [34/100000] average_loss = 0.004112129096399274\u001b[0m\n",
      "\u001b[32mINFO:lightwood-46866:time series encoder epoch [35/100000] average_loss = 0.004205447932084401\u001b[0m\n",
      "\u001b[32mINFO:lightwood-46866:time series encoder epoch [36/100000] average_loss = 0.004242659451668723\u001b[0m\n",
      "\u001b[32mINFO:lightwood-46866:time series encoder epoch [37/100000] average_loss = 0.0042895584252842685\u001b[0m\n",
      "\u001b[32mINFO:lightwood-46866:time series encoder epoch [38/100000] average_loss = 0.00440603481572971\u001b[0m\n",
      "\u001b[32mINFO:lightwood-46866:time series encoder epoch [39/100000] average_loss = 0.004132882597153647\u001b[0m\n",
      "\u001b[32mINFO:lightwood-46866:time series encoder epoch [40/100000] average_loss = 0.0040611259769975094\u001b[0m\n",
      "\u001b[32mINFO:lightwood-46866:time series encoder epoch [41/100000] average_loss = 0.00396897013772998\u001b[0m\n",
      "\u001b[32mINFO:lightwood-46866:time series encoder epoch [42/100000] average_loss = 0.003915625183205856\u001b[0m\n",
      "\u001b[32mINFO:lightwood-46866:time series encoder epoch [43/100000] average_loss = 0.003940282500626748\u001b[0m\n",
      "\u001b[32mINFO:lightwood-46866:time series encoder epoch [44/100000] average_loss = 0.004178977953760247\u001b[0m\n",
      "\u001b[32mINFO:lightwood-46866:Featurizing the data\u001b[0m\n",
      "\u001b[32mINFO:lightwood-46866:Training the mixers\u001b[0m\n",
      "/Users/Pato/Work/MindsDB/env/lib/python3.8/site-packages/lightgbm/engine.py:151: UserWarning: Found `num_iterations` in params. Will use it instead of argument\n",
      "  warnings.warn(\"Found `{}` in params. Will use it instead of argument\".format(alias))\n",
      "\u001b[33mWARNING:lightwood-46866:LightGBM running on CPU, this somewhat slower than the GPU version, consider using a GPU instead\u001b[0m\n",
      "\u001b[33mWARNING:lightwood-46866:LightGBM running on CPU, this somewhat slower than the GPU version, consider using a GPU instead\u001b[0m\n",
      "\u001b[33mWARNING:lightwood-46866:LightGBM running on CPU, this somewhat slower than the GPU version, consider using a GPU instead\u001b[0m\n",
      "\u001b[33mWARNING:lightwood-46866:LightGBM running on CPU, this somewhat slower than the GPU version, consider using a GPU instead\u001b[0m\n",
      "\u001b[33mWARNING:lightwood-46866:LightGBM running on CPU, this somewhat slower than the GPU version, consider using a GPU instead\u001b[0m\n",
      "\u001b[33mWARNING:lightwood-46866:LightGBM running on CPU, this somewhat slower than the GPU version, consider using a GPU instead\u001b[0m\n",
      "/Users/Pato/Work/MindsDB/env/lib/python3.8/site-packages/torch/cuda/amp/grad_scaler.py:116: UserWarning: torch.cuda.amp.GradScaler is enabled, but CUDA is not available.  Disabling.\n",
      "  warnings.warn(\"torch.cuda.amp.GradScaler is enabled, but CUDA is not available.  Disabling.\")\n",
      "/Users/Pato/Work/MindsDB/env/lib/python3.8/site-packages/pytorch_ranger/ranger.py:172: UserWarning: This overload of addcmul_ is deprecated:\n",
      "\taddcmul_(Number value, Tensor tensor1, Tensor tensor2)\n",
      "Consider using one of the following signatures instead:\n",
      "\taddcmul_(Tensor tensor1, Tensor tensor2, *, Number value) (Triggered internally at  ../torch/csrc/utils/python_arg_parser.cpp:1005.)\n",
      "  exp_avg_sq.mul_(beta2).addcmul_(1 - beta2, grad, grad)\n",
      "\u001b[32mINFO:lightwood-46866:Loss of 0.539688229560852 with learning rate 0.0001\u001b[0m\n",
      "\u001b[32mINFO:lightwood-46866:Loss of 0.7796856760978699 with learning rate 0.00014\u001b[0m\n",
      "\u001b[32mINFO:lightwood-46866:Found learning rate of: 0.0001\u001b[0m\n",
      "\u001b[37mDEBUG:lightwood-46866:Loss @ epoch 1: 0.6908893585205078\u001b[0m\n",
      "\u001b[37mDEBUG:lightwood-46866:Loss @ epoch 2: 0.6882499903440475\u001b[0m\n",
      "\u001b[37mDEBUG:lightwood-46866:Loss @ epoch 3: 0.6850549429655075\u001b[0m\n",
      "\u001b[37mDEBUG:lightwood-46866:Loss @ epoch 4: 0.6813623607158661\u001b[0m\n",
      "\u001b[37mDEBUG:lightwood-46866:Loss @ epoch 5: 0.6772531270980835\u001b[0m\n",
      "\u001b[37mDEBUG:lightwood-46866:Loss @ epoch 6: 0.6728083938360214\u001b[0m\n",
      "\u001b[37mDEBUG:lightwood-46866:Loss @ epoch 7: 0.6652606427669525\u001b[0m\n",
      "\u001b[37mDEBUG:lightwood-46866:Loss @ epoch 8: 0.6601350754499435\u001b[0m\n",
      "\u001b[37mDEBUG:lightwood-46866:Loss @ epoch 9: 0.6548376232385635\u001b[0m\n",
      "\u001b[37mDEBUG:lightwood-46866:Loss @ epoch 10: 0.6494599282741547\u001b[0m\n",
      "\u001b[37mDEBUG:lightwood-46866:Loss @ epoch 11: 0.6441417187452316\u001b[0m\n",
      "\u001b[37mDEBUG:lightwood-46866:Loss @ epoch 12: 0.6389893442392349\u001b[0m\n",
      "\u001b[37mDEBUG:lightwood-46866:Loss @ epoch 13: 0.6309126764535904\u001b[0m\n",
      "\u001b[37mDEBUG:lightwood-46866:Loss @ epoch 14: 0.6257634907960892\u001b[0m\n"
     ]
    },
    {
     "name": "stderr",
     "output_type": "stream",
     "text": [
      "\u001b[37mDEBUG:lightwood-46866:Loss @ epoch 15: 0.6205589026212692\u001b[0m\n",
      "\u001b[37mDEBUG:lightwood-46866:Loss @ epoch 16: 0.6152833849191666\u001b[0m\n",
      "\u001b[37mDEBUG:lightwood-46866:Loss @ epoch 17: 0.6099573820829391\u001b[0m\n",
      "\u001b[37mDEBUG:lightwood-46866:Loss @ epoch 18: 0.6046575754880905\u001b[0m\n",
      "\u001b[37mDEBUG:lightwood-46866:Loss @ epoch 19: 0.5962131917476654\u001b[0m\n",
      "\u001b[37mDEBUG:lightwood-46866:Loss @ epoch 20: 0.5909084677696228\u001b[0m\n",
      "\u001b[37mDEBUG:lightwood-46866:Loss @ epoch 21: 0.5856661349534988\u001b[0m\n",
      "\u001b[37mDEBUG:lightwood-46866:Loss @ epoch 22: 0.5805662572383881\u001b[0m\n",
      "\u001b[37mDEBUG:lightwood-46866:Loss @ epoch 23: 0.575617328286171\u001b[0m\n",
      "\u001b[37mDEBUG:lightwood-46866:Loss @ epoch 24: 0.5707968175411224\u001b[0m\n",
      "\u001b[37mDEBUG:lightwood-46866:Loss @ epoch 25: 0.5632813721895218\u001b[0m\n",
      "\u001b[37mDEBUG:lightwood-46866:Loss @ epoch 26: 0.5587586611509323\u001b[0m\n",
      "\u001b[37mDEBUG:lightwood-46866:Loss @ epoch 27: 0.554344117641449\u001b[0m\n",
      "\u001b[37mDEBUG:lightwood-46866:Loss @ epoch 28: 0.5499386340379715\u001b[0m\n",
      "\u001b[37mDEBUG:lightwood-46866:Loss @ epoch 29: 0.5455891937017441\u001b[0m\n",
      "\u001b[37mDEBUG:lightwood-46866:Loss @ epoch 30: 0.5413248538970947\u001b[0m\n",
      "\u001b[37mDEBUG:lightwood-46866:Loss @ epoch 31: 0.5345934927463531\u001b[0m\n",
      "\u001b[37mDEBUG:lightwood-46866:Loss @ epoch 32: 0.5304456949234009\u001b[0m\n",
      "\u001b[37mDEBUG:lightwood-46866:Loss @ epoch 33: 0.526373103260994\u001b[0m\n",
      "\u001b[37mDEBUG:lightwood-46866:Loss @ epoch 34: 0.5223924517631531\u001b[0m\n",
      "\u001b[37mDEBUG:lightwood-46866:Loss @ epoch 35: 0.5184392035007477\u001b[0m\n",
      "\u001b[37mDEBUG:lightwood-46866:Loss @ epoch 36: 0.5145991444587708\u001b[0m\n",
      "\u001b[37mDEBUG:lightwood-46866:Loss @ epoch 37: 0.5086493343114853\u001b[0m\n",
      "\u001b[37mDEBUG:lightwood-46866:Loss @ epoch 38: 0.5050476491451263\u001b[0m\n",
      "\u001b[37mDEBUG:lightwood-46866:Loss @ epoch 39: 0.5015637576580048\u001b[0m\n",
      "\u001b[37mDEBUG:lightwood-46866:Loss @ epoch 40: 0.49815742671489716\u001b[0m\n",
      "\u001b[37mDEBUG:lightwood-46866:Loss @ epoch 41: 0.4948585033416748\u001b[0m\n",
      "\u001b[37mDEBUG:lightwood-46866:Loss @ epoch 42: 0.49173182249069214\u001b[0m\n",
      "\u001b[37mDEBUG:lightwood-46866:Loss @ epoch 43: 0.48690974712371826\u001b[0m\n",
      "\u001b[37mDEBUG:lightwood-46866:Loss @ epoch 44: 0.4839773178100586\u001b[0m\n",
      "\u001b[37mDEBUG:lightwood-46866:Loss @ epoch 45: 0.4811210632324219\u001b[0m\n",
      "\u001b[37mDEBUG:lightwood-46866:Loss @ epoch 46: 0.4783552885055542\u001b[0m\n",
      "\u001b[37mDEBUG:lightwood-46866:Loss @ epoch 47: 0.4757150560617447\u001b[0m\n",
      "\u001b[37mDEBUG:lightwood-46866:Loss @ epoch 48: 0.47318898141384125\u001b[0m\n",
      "\u001b[37mDEBUG:lightwood-46866:Loss @ epoch 49: 0.46942955255508423\u001b[0m\n",
      "\u001b[37mDEBUG:lightwood-46866:Loss @ epoch 50: 0.4671967923641205\u001b[0m\n",
      "\u001b[37mDEBUG:lightwood-46866:Loss @ epoch 51: 0.4650762975215912\u001b[0m\n",
      "\u001b[37mDEBUG:lightwood-46866:Loss @ epoch 52: 0.4630257934331894\u001b[0m\n",
      "\u001b[37mDEBUG:lightwood-46866:Loss @ epoch 53: 0.46110378205776215\u001b[0m\n",
      "\u001b[37mDEBUG:lightwood-46866:Loss @ epoch 54: 0.45930930972099304\u001b[0m\n",
      "\u001b[37mDEBUG:lightwood-46866:Loss @ epoch 55: 0.45666399598121643\u001b[0m\n",
      "\u001b[37mDEBUG:lightwood-46866:Loss @ epoch 56: 0.4550795406103134\u001b[0m\n",
      "\u001b[37mDEBUG:lightwood-46866:Loss @ epoch 57: 0.4535674601793289\u001b[0m\n",
      "\u001b[37mDEBUG:lightwood-46866:Loss @ epoch 58: 0.45216208696365356\u001b[0m\n",
      "\u001b[37mDEBUG:lightwood-46866:Loss @ epoch 59: 0.45088090002536774\u001b[0m\n",
      "\u001b[37mDEBUG:lightwood-46866:Loss @ epoch 60: 0.4496418982744217\u001b[0m\n",
      "\u001b[37mDEBUG:lightwood-46866:Loss @ epoch 61: 0.4477883279323578\u001b[0m\n",
      "\u001b[37mDEBUG:lightwood-46866:Loss @ epoch 62: 0.4467353969812393\u001b[0m\n",
      "\u001b[37mDEBUG:lightwood-46866:Loss @ epoch 63: 0.4457828402519226\u001b[0m\n",
      "\u001b[37mDEBUG:lightwood-46866:Loss @ epoch 64: 0.4448719322681427\u001b[0m\n",
      "\u001b[37mDEBUG:lightwood-46866:Loss @ epoch 65: 0.44403648376464844\u001b[0m\n",
      "\u001b[37mDEBUG:lightwood-46866:Loss @ epoch 66: 0.44328153133392334\u001b[0m\n",
      "\u001b[37mDEBUG:lightwood-46866:Loss @ epoch 67: 0.44207488000392914\u001b[0m\n",
      "\u001b[37mDEBUG:lightwood-46866:Loss @ epoch 68: 0.4413738548755646\u001b[0m\n",
      "\u001b[37mDEBUG:lightwood-46866:Loss @ epoch 69: 0.44084450602531433\u001b[0m\n",
      "\u001b[37mDEBUG:lightwood-46866:Loss @ epoch 70: 0.4403578191995621\u001b[0m\n",
      "\u001b[37mDEBUG:lightwood-46866:Loss @ epoch 71: 0.4398685395717621\u001b[0m\n",
      "\u001b[37mDEBUG:lightwood-46866:Loss @ epoch 72: 0.43935835361480713\u001b[0m\n",
      "\u001b[37mDEBUG:lightwood-46866:Loss @ epoch 73: 0.43840254843235016\u001b[0m\n",
      "\u001b[37mDEBUG:lightwood-46866:Loss @ epoch 74: 0.4378361850976944\u001b[0m\n",
      "\u001b[37mDEBUG:lightwood-46866:Loss @ epoch 75: 0.4375789165496826\u001b[0m\n",
      "\u001b[37mDEBUG:lightwood-46866:Loss @ epoch 76: 0.43739429116249084\u001b[0m\n",
      "\u001b[37mDEBUG:lightwood-46866:Loss @ epoch 77: 0.4372607320547104\u001b[0m\n",
      "\u001b[37mDEBUG:lightwood-46866:Loss @ epoch 78: 0.43708017468452454\u001b[0m\n",
      "\u001b[37mDEBUG:lightwood-46866:Loss @ epoch 79: 0.4364318400621414\u001b[0m\n",
      "\u001b[37mDEBUG:lightwood-46866:Loss @ epoch 80: 0.43584632873535156\u001b[0m\n",
      "\u001b[37mDEBUG:lightwood-46866:Loss @ epoch 81: 0.4356466382741928\u001b[0m\n",
      "\u001b[37mDEBUG:lightwood-46866:Loss @ epoch 82: 0.4355204701423645\u001b[0m\n",
      "\u001b[37mDEBUG:lightwood-46866:Loss @ epoch 83: 0.43557313084602356\u001b[0m\n",
      "\u001b[37mDEBUG:lightwood-46866:Loss @ epoch 84: 0.43554021418094635\u001b[0m\n",
      "\u001b[37mDEBUG:lightwood-46866:Loss @ epoch 85: 0.43514105677604675\u001b[0m\n",
      "\u001b[37mDEBUG:lightwood-46866:Loss @ epoch 86: 0.43462760746479034\u001b[0m\n",
      "\u001b[37mDEBUG:lightwood-46866:Loss @ epoch 87: 0.43442972004413605\u001b[0m\n",
      "\u001b[37mDEBUG:lightwood-46866:Loss @ epoch 88: 0.43443459272384644\u001b[0m\n",
      "\u001b[37mDEBUG:lightwood-46866:Loss @ epoch 89: 0.4344787895679474\u001b[0m\n",
      "\u001b[37mDEBUG:lightwood-46866:Loss @ epoch 90: 0.4345344454050064\u001b[0m\n",
      "\u001b[37mDEBUG:lightwood-46866:Loss @ epoch 1: 0.329136921600862\u001b[0m\n",
      "\u001b[37mDEBUG:lightwood-46866:Loss @ epoch 2: 0.3284675722772425\u001b[0m\n",
      "\u001b[37mDEBUG:lightwood-46866:Loss @ epoch 3: 0.33007449995387683\u001b[0m\n",
      "\u001b[37mDEBUG:lightwood-46866:Loss @ epoch 4: 0.32765168764374475\u001b[0m\n",
      "\u001b[37mDEBUG:lightwood-46866:Loss @ epoch 5: 0.3260806582190774\u001b[0m\n",
      "\u001b[37mDEBUG:lightwood-46866:Loss @ epoch 6: 0.3272357068278573\u001b[0m\n",
      "\u001b[37mDEBUG:lightwood-46866:Loss @ epoch 7: 0.3281749730760401\u001b[0m\n",
      "\u001b[32mINFO:lightwood-46866:Started fitting LGBM models for array prediction\u001b[0m\n",
      "\u001b[32mINFO:lightwood-46866:Started fitting LGBM model\u001b[0m\n",
      "/Users/Pato/Work/MindsDB/env/lib/python3.8/site-packages/lightgbm/engine.py:151: UserWarning: Found `num_iterations` in params. Will use it instead of argument\n",
      "  warnings.warn(\"Found `{}` in params. Will use it instead of argument\".format(alias))\n",
      "\u001b[32mINFO:lightwood-46866:A single GBM iteration takes 0.1 seconds\u001b[0m\n",
      "\u001b[32mINFO:lightwood-46866:Training GBM (<module 'lightgbm' from '/Users/Pato/Work/MindsDB/env/lib/python3.8/site-packages/lightgbm/__init__.py'>) with 1325 iterations given 165.66666666666666 seconds constraint\u001b[0m\n",
      "/Users/Pato/Work/MindsDB/env/lib/python3.8/site-packages/lightgbm/engine.py:156: UserWarning: Found `early_stopping_rounds` in params. Will use it instead of argument\n",
      "  warnings.warn(\"Found `{}` in params. Will use it instead of argument\".format(alias))\n",
      "\u001b[32mINFO:lightwood-46866:Lightgbm model contains 1 weak estimators\u001b[0m\n",
      "\u001b[32mINFO:lightwood-46866:Updating lightgbm model with 1 iterations\u001b[0m\n",
      "\u001b[32mINFO:lightwood-46866:Model now has a total of 2 weak estimators\u001b[0m\n",
      "\u001b[32mINFO:lightwood-46866:Started fitting LGBM model\u001b[0m\n",
      "\u001b[32mINFO:lightwood-46866:A single GBM iteration takes 0.1 seconds\u001b[0m\n",
      "\u001b[32mINFO:lightwood-46866:Training GBM (<module 'lightgbm' from '/Users/Pato/Work/MindsDB/env/lib/python3.8/site-packages/lightgbm/__init__.py'>) with 1325 iterations given 165.66666666666666 seconds constraint\u001b[0m\n",
      "\u001b[32mINFO:lightwood-46866:Lightgbm model contains 1 weak estimators\u001b[0m\n",
      "\u001b[32mINFO:lightwood-46866:Updating lightgbm model with 1 iterations\u001b[0m\n",
      "\u001b[32mINFO:lightwood-46866:Model now has a total of 2 weak estimators\u001b[0m\n",
      "\u001b[32mINFO:lightwood-46866:Started fitting LGBM model\u001b[0m\n",
      "\u001b[32mINFO:lightwood-46866:A single GBM iteration takes 0.1 seconds\u001b[0m\n",
      "\u001b[32mINFO:lightwood-46866:Training GBM (<module 'lightgbm' from '/Users/Pato/Work/MindsDB/env/lib/python3.8/site-packages/lightgbm/__init__.py'>) with 1325 iterations given 165.66666666666666 seconds constraint\u001b[0m\n",
      "\u001b[32mINFO:lightwood-46866:Lightgbm model contains 1 weak estimators\u001b[0m\n",
      "\u001b[32mINFO:lightwood-46866:Updating lightgbm model with 1 iterations\u001b[0m\n",
      "\u001b[32mINFO:lightwood-46866:Model now has a total of 2 weak estimators\u001b[0m\n",
      "\u001b[32mINFO:lightwood-46866:Started fitting LGBM model\u001b[0m\n",
      "\u001b[32mINFO:lightwood-46866:A single GBM iteration takes 0.1 seconds\u001b[0m\n",
      "\u001b[32mINFO:lightwood-46866:Training GBM (<module 'lightgbm' from '/Users/Pato/Work/MindsDB/env/lib/python3.8/site-packages/lightgbm/__init__.py'>) with 1325 iterations given 165.66666666666666 seconds constraint\u001b[0m\n",
      "\u001b[32mINFO:lightwood-46866:Lightgbm model contains 1 weak estimators\u001b[0m\n"
     ]
    },
    {
     "name": "stderr",
     "output_type": "stream",
     "text": [
      "\u001b[32mINFO:lightwood-46866:Updating lightgbm model with 1 iterations\u001b[0m\n",
      "\u001b[32mINFO:lightwood-46866:Model now has a total of 2 weak estimators\u001b[0m\n",
      "\u001b[32mINFO:lightwood-46866:Started fitting LGBM model\u001b[0m\n",
      "\u001b[32mINFO:lightwood-46866:A single GBM iteration takes 0.1 seconds\u001b[0m\n",
      "\u001b[32mINFO:lightwood-46866:Training GBM (<module 'lightgbm' from '/Users/Pato/Work/MindsDB/env/lib/python3.8/site-packages/lightgbm/__init__.py'>) with 1325 iterations given 165.66666666666666 seconds constraint\u001b[0m\n",
      "\u001b[32mINFO:lightwood-46866:Lightgbm model contains 1 weak estimators\u001b[0m\n",
      "\u001b[32mINFO:lightwood-46866:Updating lightgbm model with 1 iterations\u001b[0m\n",
      "\u001b[32mINFO:lightwood-46866:Model now has a total of 2 weak estimators\u001b[0m\n",
      "\u001b[32mINFO:lightwood-46866:Started fitting LGBM model\u001b[0m\n",
      "\u001b[32mINFO:lightwood-46866:A single GBM iteration takes 0.1 seconds\u001b[0m\n",
      "\u001b[32mINFO:lightwood-46866:Training GBM (<module 'lightgbm' from '/Users/Pato/Work/MindsDB/env/lib/python3.8/site-packages/lightgbm/__init__.py'>) with 1325 iterations given 165.66666666666666 seconds constraint\u001b[0m\n",
      "\u001b[32mINFO:lightwood-46866:Lightgbm model contains 1 weak estimators\u001b[0m\n",
      "\u001b[32mINFO:lightwood-46866:Updating lightgbm model with 1 iterations\u001b[0m\n",
      "\u001b[32mINFO:lightwood-46866:Model now has a total of 2 weak estimators\u001b[0m\n",
      "\u001b[32mINFO:lightwood-46866:Ensembling the mixer\u001b[0m\n",
      "\u001b[32mINFO:lightwood-46866:Mixer: Neural got accuracy: 0.19612012470445245\u001b[0m\n",
      "\u001b[32mINFO:lightwood-46866:Mixer: LightGBMArray got accuracy: 0.21013741093675975\u001b[0m\n",
      "\u001b[32mINFO:lightwood-46866:Picked best mixer: LightGBMArray\u001b[0m\n",
      "\u001b[32mINFO:lightwood-46866:Analyzing the ensemble of mixers\u001b[0m\n",
      "\u001b[32mINFO:lightwood-46866:Adjustment on validation requested.\u001b[0m\n",
      "\u001b[32mINFO:lightwood-46866:Updating the mixers\u001b[0m\n",
      "/Users/Pato/Work/MindsDB/env/lib/python3.8/site-packages/torch/cuda/amp/grad_scaler.py:116: UserWarning: torch.cuda.amp.GradScaler is enabled, but CUDA is not available.  Disabling.\n",
      "  warnings.warn(\"torch.cuda.amp.GradScaler is enabled, but CUDA is not available.  Disabling.\")\n",
      "\u001b[37mDEBUG:lightwood-46866:Loss @ epoch 1: 0.33339183280865353\u001b[0m\n",
      "\u001b[37mDEBUG:lightwood-46866:Loss @ epoch 2: 0.3303144524494807\u001b[0m\n",
      "\u001b[37mDEBUG:lightwood-46866:Loss @ epoch 3: 0.330986554423968\u001b[0m\n",
      "\u001b[37mDEBUG:lightwood-46866:Loss @ epoch 4: 0.3315189927816391\u001b[0m\n",
      "\u001b[37mDEBUG:lightwood-46866:Loss @ epoch 5: 0.33072087665398914\u001b[0m\n",
      "\u001b[37mDEBUG:lightwood-46866:Loss @ epoch 6: 0.33309372514486313\u001b[0m\n",
      "\u001b[32mINFO:lightwood-46866:Updating array of LGBM models...\u001b[0m\n",
      "\u001b[32mINFO:lightwood-46866:Updating lightgbm model with 1 iterations\u001b[0m\n",
      "/Users/Pato/Work/MindsDB/env/lib/python3.8/site-packages/lightgbm/engine.py:151: UserWarning: Found `num_iterations` in params. Will use it instead of argument\n",
      "  warnings.warn(\"Found `{}` in params. Will use it instead of argument\".format(alias))\n",
      "/Users/Pato/Work/MindsDB/env/lib/python3.8/site-packages/lightgbm/engine.py:156: UserWarning: Found `early_stopping_rounds` in params. Will use it instead of argument\n",
      "  warnings.warn(\"Found `{}` in params. Will use it instead of argument\".format(alias))\n",
      "\u001b[32mINFO:lightwood-46866:Model now has a total of 3 weak estimators\u001b[0m\n",
      "\u001b[32mINFO:lightwood-46866:Updating lightgbm model with 1 iterations\u001b[0m\n",
      "\u001b[32mINFO:lightwood-46866:Model now has a total of 3 weak estimators\u001b[0m\n",
      "\u001b[32mINFO:lightwood-46866:Updating lightgbm model with 1 iterations\u001b[0m\n",
      "\u001b[32mINFO:lightwood-46866:Model now has a total of 3 weak estimators\u001b[0m\n",
      "\u001b[32mINFO:lightwood-46866:Updating lightgbm model with 1 iterations\u001b[0m\n",
      "\u001b[32mINFO:lightwood-46866:Model now has a total of 3 weak estimators\u001b[0m\n",
      "\u001b[32mINFO:lightwood-46866:Updating lightgbm model with 1 iterations\u001b[0m\n",
      "\u001b[32mINFO:lightwood-46866:Model now has a total of 3 weak estimators\u001b[0m\n",
      "\u001b[32mINFO:lightwood-46866:Updating lightgbm model with 1 iterations\u001b[0m\n",
      "\u001b[32mINFO:lightwood-46866:Model now has a total of 3 weak estimators\u001b[0m\n"
     ]
    }
   ],
   "source": [
    "predictor.learn(train)"
   ]
  },
  {
   "cell_type": "markdown",
   "metadata": {},
   "source": [
    "## Predict\n",
    "\n",
    "Once the predictor has trained, we can use it to generate 6-month forecasts for each of the test set data points:"
   ]
  },
  {
   "cell_type": "code",
   "execution_count": 28,
   "metadata": {},
   "outputs": [
    {
     "name": "stderr",
     "output_type": "stream",
     "text": [
      "\u001b[32mINFO:lightwood-46866:Dropping features: []\u001b[0m\n",
      "\u001b[32mINFO:lightwood-46866:Cleaning the data\u001b[0m\n",
      "\u001b[32mINFO:lightwood-46866:Transforming timeseries data\u001b[0m\n",
      "\u001b[32mINFO:lightwood-46866:Featurizing the data\u001b[0m\n",
      "/Users/Pato/Work/MindsDB/env/lib/python3.8/site-packages/pandas/core/indexing.py:1637: SettingWithCopyWarning: \n",
      "A value is trying to be set on a copy of a slice from a DataFrame\n",
      "\n",
      "See the caveats in the documentation: https://pandas.pydata.org/pandas-docs/stable/user_guide/indexing.html#returning-a-view-versus-a-copy\n",
      "  self._setitem_single_block(indexer, value, name)\n",
      "\u001b[32mINFO:lightwood-46866:AccStats.explain() has not been implemented, no modifications will be done to the data insights.\u001b[0m\n",
      "\u001b[32mINFO:lightwood-46866:GlobalFeatureImportance.explain() has not been implemented, no modifications will be done to the data insights.\u001b[0m\n"
     ]
    }
   ],
   "source": [
    "forecasts = predictor.predict(test)"
   ]
  },
  {
   "cell_type": "markdown",
   "metadata": {},
   "source": [
    "Let's check how a single row might look:"
   ]
  },
  {
   "cell_type": "code",
   "execution_count": 37,
   "metadata": {},
   "outputs": [
    {
     "data": {
      "text/html": [
       "<div>\n",
       "<style scoped>\n",
       "    .dataframe tbody tr th:only-of-type {\n",
       "        vertical-align: middle;\n",
       "    }\n",
       "\n",
       "    .dataframe tbody tr th {\n",
       "        vertical-align: top;\n",
       "    }\n",
       "\n",
       "    .dataframe thead th {\n",
       "        text-align: right;\n",
       "    }\n",
       "</style>\n",
       "<table border=\"1\" class=\"dataframe\">\n",
       "  <thead>\n",
       "    <tr style=\"text-align: right;\">\n",
       "      <th></th>\n",
       "      <th>prediction</th>\n",
       "      <th>truth</th>\n",
       "      <th>order_Month</th>\n",
       "      <th>confidence</th>\n",
       "      <th>lower</th>\n",
       "      <th>upper</th>\n",
       "      <th>anomaly</th>\n",
       "    </tr>\n",
       "  </thead>\n",
       "  <tbody>\n",
       "    <tr>\n",
       "      <th>10</th>\n",
       "      <td>[51.28799878891615, 46.76867159945164, 52.0899...</td>\n",
       "      <td>51.0</td>\n",
       "      <td>[-272577600.0, -269899200.0, -267220800.0, -26...</td>\n",
       "      <td>[0.24, 0.24, 0.24, 0.24, 0.24, 0.24]</td>\n",
       "      <td>[30.80746268275371, 26.288135493289204, 31.609...</td>\n",
       "      <td>[71.76853489507859, 67.24920770561408, 72.5704...</td>\n",
       "      <td>False</td>\n",
       "    </tr>\n",
       "  </tbody>\n",
       "</table>\n",
       "</div>"
      ],
      "text/plain": [
       "                                           prediction  truth  \\\n",
       "10  [51.28799878891615, 46.76867159945164, 52.0899...   51.0   \n",
       "\n",
       "                                          order_Month  \\\n",
       "10  [-272577600.0, -269899200.0, -267220800.0, -26...   \n",
       "\n",
       "                              confidence  \\\n",
       "10  [0.24, 0.24, 0.24, 0.24, 0.24, 0.24]   \n",
       "\n",
       "                                                lower  \\\n",
       "10  [30.80746268275371, 26.288135493289204, 31.609...   \n",
       "\n",
       "                                                upper  anomaly  \n",
       "10  [71.76853489507859, 67.24920770561408, 72.5704...    False  "
      ]
     },
     "execution_count": 37,
     "metadata": {},
     "output_type": "execute_result"
    }
   ],
   "source": [
    "forecasts.iloc[[10]]"
   ]
  },
  {
   "cell_type": "markdown",
   "metadata": {},
   "source": [
    "You'll note that the point `prediction` has associated `lower` and `upper` bounds that are a function of the estimated `confidence` the model has on its own output. Apart from this, `order_Month` yields the timestamps of each prediction, `truth` lets us know what is the one-step-ahead observed value (if it exists at all). Finally, the `anomaly` tag will let you know if the observed value falls outside of the predicted region. \n",
    "\n",
    "\n",
    "## Visualizing a forecast\n",
    "\n",
    "Okay, time series are much easier to appreciate through plots. Let's make one:\n",
    "\n",
    "NOTE: We will use `matplotlib` to generate a simple plot of these forecasts. If you want to run this notebook locally, you will need to `pip install matplotlib` for the following code to work."
   ]
  },
  {
   "cell_type": "code",
   "execution_count": 38,
   "metadata": {},
   "outputs": [],
   "source": [
    "import matplotlib.pyplot as plt"
   ]
  },
  {
   "cell_type": "code",
   "execution_count": 69,
   "metadata": {},
   "outputs": [
    {
     "data": {
      "image/png": "[encoded data removed]",
      "text/plain": [
       "<Figure size 864x576 with 1 Axes>"
      ]
     },
     "metadata": {
      "needs_background": "light"
     },
     "output_type": "display_data"
    }
   ],
   "source": [
    "plt.figure(figsize=(12, 8))\n",
    "plt.plot(forecasts['truth'].iloc[-24:], color='green', label='observed series')\n",
    "plt.plot([None for _ in range(forecasts.shape[0])] + forecasts.iloc[-1]['prediction'], color='purple', label='point prediction')\n",
    "plt.plot([None for _ in range(forecasts.shape[0])] + forecasts.iloc[-1]['lower'], color='grey')\n",
    "plt.plot([None for _ in range(forecasts.shape[0])] + forecasts.iloc[-1]['upper'], color='grey')\n",
    "plt.xlabel('timestep')\n",
    "plt.ylabel('# sunspots')\n",
    "plt.title(\"Forecasted amount of sunspots for the next semester\")\n",
    "plt.legend()\n",
    "plt.show()"
   ]
  },
  {
   "cell_type": "markdown",
   "metadata": {},
   "source": [
    "## Conclusion\n",
    "\n",
    "In this tutorial, we have gone through how you can train a machine learning model with Lightwood to produce forecasts for a univariate time series task.\n",
    "\n",
    "There are additional parameters to further customize your timeseries settings and/or prediction insights, so be sure to check the rest of the documentation."
   ]
  }
 ],
 "metadata": {
  "kernelspec": {
   "display_name": "mdb",
   "language": "python",
   "name": "mdb"
  },
  "language_info": {
   "codemirror_mode": {
    "name": "ipython",
    "version": 3
   },
   "file_extension": ".py",
   "mimetype": "text/x-python",
   "name": "python",
   "nbconvert_exporter": "python",
   "pygments_lexer": "ipython3",
   "version": "3.8.6"
  }
 },
 "nbformat": 4,
 "nbformat_minor": 4
}
